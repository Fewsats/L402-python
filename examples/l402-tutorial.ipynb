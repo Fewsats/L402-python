{
 "cells": [
  {
   "cell_type": "markdown",
   "metadata": {},
   "source": [
    "# L402: A Beginner's Guide to Internet-Native Paywalls\n",
    "\n",
    "L402 is a decentralized payment protocol built on the Lightning Network. It allows servers to require payment for access to resources, creating internet-native paywalls. This post will walk you through the key concepts and show you how to implement L402 in your own applications.\n",
    "\n",
    "The following sequence diagram shows the flow of L402 authentication."
   ]
  },
  {
   "cell_type": "markdown",
   "metadata": {},
   "source": [
    "```mermaid\n",
    "sequenceDiagram\n",
    "    Client->>Server: Request access to HTTP resource\n",
    "    Server-->Server: Check client credentials (invalid)\n",
    "    Server-->Server: Generate challenge (macaroon + invoice)\n",
    "    Server-->>Client: Return HTTP 402 status code & challenge \n",
    "    Client->>Client: Complete challenge & obtain preimage\n",
    "    Client->>Server: Request access L402 Authentication header (macaroon + preimage)\n",
    "    Server->>Server: Verify credentials and proof of completion for the linked challenge\n",
    "    Server-->>Client: Serve the requested resource\n",
    "```"
   ]
  },
  {
   "cell_type": "markdown",
   "metadata": {},
   "source": [
    "The sequence diagram above outlines the L402 protocol's interaction flow. It starts with the client requesting access to a protected resource. The server then returns an `HTTP 402 Payment required` status code and an invoice to the client. When the client pays the invoice, it will receive a preimage as proof of payment. Requesting access again with the preimage, the server will grant access to the resource.\n",
    "\n",
    "Now, let's explore the key concepts involved in this protocol:\n",
    "\n",
    "* Macaroons\n",
    "* Invoices\n",
    "* Preimages\n"
   ]
  },
  {
   "cell_type": "markdown",
   "metadata": {},
   "source": [
    "\n",
    "## Key Concepts\n",
    "\n",
    "### Invoices\n",
    "\n",
    "L402 uses Lightning invoices to handle payments. The server includes an invoice in its 402 response. The client pays this invoice to gain access.\n",
    "\n",
    "Example of encoded invoice:\n",
    "\n",
    "```\n",
    "lnbc20m1pvjluezpp5qqqsyqcyq5rqwzqfqqqsyqcyq5rqwzqfqqqsyqcyq5rqwzqfqypqhp58yjmdan79s6qqdhdzgynm4zwqd5d7xmw5fk98klysy043l2ahrqsfpp3qjmp7lwpagxun9pygexvgpjdc4jdj85fr9yq20q82gphp2nflc7jtzrcazrra7wwgzxqc8u7754cdlpfrmccae92qgzqvzq2ps8pqqqqqqpqqqqq9qqqvpeuqafqxu92d8lr6fvg0r5gv0heeeqgcrqlnm6jhphu9y00rrhy4grqszsvpcgpy9qqqqqqgqqqqq7qqzqj9n4evl6mr5aj9f58zp6fyjzup6ywn3x6sk8akg5v4tgn2q8g4fhx05wf6juaxu9760yp46454gpg5mtzgerlzezqcqvjnhjh8z3g2qqdhhwkj\n",
    "```\n",
    "\n",
    "Decoded invoice:\n",
    "\n",
    "```\n",
    "{\n",
    "    \"destination\": \"03e7156ae33b0a208d0744199163177e909e80176e55d97a2f221ede0f934dd9ad\",\n",
    "    \"payment_hash\": \"0001020304050607080900010203040506070809000102030405060708090102\",\n",
    "    \"num_satoshis\": \"2000000\",\n",
    "    \"timestamp\": \"1496314658\",\n",
    "    \"expiry\": \"3600\",\n",
    "    \"description\": \"\",\n",
    "    ...\n",
    "}\n",
    "```\n",
    "\n",
    "\n",
    "### Macaroons\n",
    "Macaroons are bearer tokens that enable decentralized authorization. They contain caveats that specify constraints on their usage.\n",
    "\n",
    "Macaroon example:\n",
    "\n",
    "```\n",
    "{\n",
    "  \"ID\": \"000035cf3da4dfdefa01a385965...\",\n",
    "  \"version\": 0,\n",
    "  \"payment_hash\": \"35cf3da4dfdefa01a385965...\",\n",
    "  \"token_id\": \"7133548b39c094b83120052b106...\",\n",
    "  \"location\": \"fewsats.com\",\n",
    "  \"caveats\": [\n",
    "    \"expires_at=2024-06-14T01:38:46Z\"\n",
    "  ]\n",
    "}\n",
    "```\n",
    "\n",
    "### Preimages\n",
    "Each Lightning invoice has a corresponding preimage, which is revealed when the invoice is paid. In L402, the preimage serves as proof of payment. \n",
    "\n",
    "Preimage example:\n",
    "\n",
    "```\n",
    "e451ccb4f1fb9d83d5c4f03a902e4cc651ef0b71999e764b152881a5f3260d50\n",
    "```"
   ]
  },
  {
   "cell_type": "markdown",
   "metadata": {},
   "source": [
    "## Building L402 Components Step-by-Step\n",
    "\n",
    "Now let's build the components of the L402 protocol step-by-step. We'll start with the basics and gradually build up to a complete example.\n",
    "\n",
    "### 1. Invoice Generation\n",
    "\n",
    "1. **Invoice Creation:** An invoice is generated specifying the amount, currency, and a description that ties it to the specific content access request. This ensures that the payment is directly linked to the content being accessed.\n",
    "\n",
    "2. **Encoding Payment Request:** The invoice is encoded into a `payment_request` string. This string is a compact, URL-safe format that can be easily transmitted and handled by payment systems.\n",
    "\n",
    "3. **Linking to Macaroon:** The `payment_hash` generated during the invoice creation is used in the macaroon's identifier. This establishes a secure link between the payment and the authorization token, ensuring that each payment corresponds to a specific access permission.\n",
    "\n",
    "4. **Transmission Preparation:** The `payment_request` is prepared for transmission alongside the macaroon, enabling the client to make a payment directly related to the resource they wish to access.\n",
    "\n"
   ]
  },
  {
   "cell_type": "code",
   "execution_count": 12,
   "metadata": {},
   "outputs": [
    {
     "data": {
      "text/plain": [
       "('lnbcrt1u1p3d23dkpp58r92m0s0vyfdnd3caxhzgvu006dajv9r8pcspknhvezw26t9e8qsdq5g9kxy7fqd9h8vmmfvdjscqzpgxqyz5vqsp59efe44rg6cjl3xwh9glgx4ztcgwtg5l8uhry2v9v7s0zn2wpaz2s9qyyssq2z799an4pt4wtfy8yrk5ee0qqj7w5a74prz5tm8rulwez08ttlaz9xx7eqw7fe94y7t0600d03k55fyguyj24nd9tjmx6sf7dsxkk4gpkyenl8',\n",
       " '38caadbe0f6112d9b638e9ae24338f7e9bd930a3387100da776644e56965c9c1')"
      ]
     },
     "execution_count": 12,
     "metadata": {},
     "output_type": "execute_result"
    }
   ],
   "source": [
    "# We need to use an Invoice Provider, we'll mock one for this example\n",
    "class MockInvoiceProvider():\n",
    "    def create_invoice(self, amount, currency, description):\n",
    "        mock_invoice = \"lnbcrt1u1p3d23dkpp58r92m0s0vyfdnd3caxhzgvu006dajv9r8pcspknhvezw26t9e8qsdq5g9kxy7fqd9h8vmmfvdjscqzpgxqyz5vqsp59efe44rg6cjl3xwh9glgx4ztcgwtg5l8uhry2v9v7s0zn2wpaz2s9qyyssq2z799an4pt4wtfy8yrk5ee0qqj7w5a74prz5tm8rulwez08ttlaz9xx7eqw7fe94y7t0600d03k55fyguyj24nd9tjmx6sf7dsxkk4gpkyenl8\"\n",
    "        mock_payment_hash = \"38caadbe0f6112d9b638e9ae24338f7e9bd930a3387100da776644e56965c9c1\"\n",
    "        return mock_invoice, mock_payment_hash\n",
    "\n",
    "# The provider accepts an amount, currency, and description\n",
    "amount = 100\n",
    "currency = \"USD\"\n",
    "description = \"L402 Challenge: Downloading a file from fewsats.com\"\n",
    "\n",
    "invoice, payment_hash  = MockInvoiceProvider().create_invoice(\n",
    "    amount, currency, f\"L402 Challenge: {description}\",\n",
    ")\n",
    "invoice, payment_hash"
   ]
  },
  {
   "cell_type": "markdown",
   "metadata": {},
   "source": [
    "\n",
    "### 2. Macaroon Generation\n",
    "\n",
    "1. **Key Generation:** Unique keys (`token_id` and `root_key`) are generated to uniquely identify and secure each macaroon.\n",
    "\n",
    "2. **Setting the Location:** The `location` specifies the URL of the content being accessed. It links the macaroon to the content.\n",
    "\n",
    "3. **Linking Payment Hash:** The `payment_hash` from the corresponding invoice is included in the macaroon's identifier. This links the macaroon to a specific payment, ensuring that the access granted is tied to a completed transaction.\n",
    "\n",
    "4. **Serialization:** The macaroon is serialized into a string format, making it suitable for transmission over the network.\n"
   ]
  },
  {
   "cell_type": "code",
   "execution_count": 13,
   "metadata": {},
   "outputs": [
    {
     "data": {
      "text/plain": [
       "'AgFQaHR0cHM6Ly9hcGkuZmV3c2F0cy5jb20vdjAvc3RvcmFnZS9kb3dubG9hZC9iMGRmYTY2Ny1iYWZlLTQ2NDgtYTM3MS1iOTRjOGE4N2RhNjUCQgAAOMqtvg9hEtm2OOmuJDOPfpvZMKM4cQDad2ZE5WllycHsw9WR14p-G3_rsRP-Pny6KBJRyIvNEYu_F01u7lIEhwAABiC_Tv6Et72-N8ptQYexKAQAZFheJxqS_jz6A8YlpZjwOA'"
      ]
     },
     "execution_count": 13,
     "metadata": {},
     "output_type": "execute_result"
    }
   ],
   "source": [
    "from pymacaroons import Macaroon, MACAROON_V2\n",
    "from binascii import unhexlify\n",
    "import os, struct\n",
    "\n",
    "token_id = os.urandom(32)\n",
    "root_key = os.urandom(32)\n",
    "version = 0\n",
    "# generate an ID from the token & root key, details aren't important now\n",
    "identifier = struct.pack(\">H32s32s\", version, unhexlify(payment_hash), token_id)\n",
    "url = \"https://api.fewsats.com/v0/storage/download/b0dfa667-bafe-4648-a371-b94c8a87da65\"\n",
    "mac = Macaroon(\n",
    "    version=MACAROON_V2,\n",
    "    location=url,\n",
    "    identifier=identifier,\n",
    "    key=root_key\n",
    ")\n",
    "macaroon = mac.serialize()\n",
    "macaroon"
   ]
  },
  {
   "cell_type": "markdown",
   "metadata": {},
   "source": [
    "### 3. Creating and Sending the Challenge\n",
    "\n",
    "Let's combine the macaroon and invoice into a challenge and send it to the client. This challenge, encapsulating authentication and payment details, is transmitted via an HTTP 402 (Payment Required) response."
   ]
  },
  {
   "cell_type": "code",
   "execution_count": 14,
   "metadata": {},
   "outputs": [
    {
     "data": {
      "text/plain": [
       "<Response 0 bytes [402 PAYMENT REQUIRED]>"
      ]
     },
     "execution_count": 14,
     "metadata": {},
     "output_type": "execute_result"
    }
   ],
   "source": [
    "from flask import Response\n",
    "\n",
    "challenge = f'L402 macaroon=\"{macaroon}\", invoice=\"{invoice}\"'\n",
    "response = Response(status=402)\n",
    "\n",
    "response.headers['WWW-Authenticate'] = challenge\n",
    "response"
   ]
  },
  {
   "cell_type": "markdown",
   "metadata": {},
   "source": [
    "### 4. Client Parses the Challenge\n",
    "\n",
    "After receiving the challenge, the client needs to parse it to extract the macaroon and invoice. "
   ]
  },
  {
   "cell_type": "code",
   "execution_count": 15,
   "metadata": {},
   "outputs": [
    {
     "data": {
      "text/plain": [
       "('AgELZmV3c2F0cy5jb20CQgAAhdYJswU80RmRx4Pf16TGIjEFRIOp6ZrQRqb5y7OTppm+k7XiLYczm+7aPlzRgZ+AxonD+wAkUhuXD4j6rl2l2wACLGZpbGVfaWQ9YjBkZmE2NjctYmFmZS00NjQ4LWEzNzEtYjk0YzhhODdkYTY1AAIfZXhwaXJlc19hdD0yMDI0LTA3LTExVDEwOjQwOjI3WgAABiCdDIKl9Lu6JpjsdQ83+yzto0V5sWuUW7Z5hKwwWj+/xw==',\n",
       " 'lnbc150n1pnxs2vupp5shtqnvc98ng3nyw8s00a0fxxygcs23yr485e45zx5muuhvun56vsdpygejhwumpw3ejqnp5xqezqsmgv9kxcetwvajscqzzsxqyz5vqsp5rdnl07nnxmjzay5l0gqj9w52tcg6psheqfxjx4940p26klgtmqnq9qyyssquvewm0zw9gsl3fptgjhz2ytlgyrxfwzm6zln6kxfl3ks6nx9mm0rd97hypggegf20arx30wvucgptr6jzsegvgpr7unx4fnl9nrpsnspnp3rf3')"
      ]
     },
     "execution_count": 15,
     "metadata": {},
     "output_type": "execute_result"
    }
   ],
   "source": [
    "import re, requests\n",
    "\n",
    "def parse_l402_challenge(challenge):\n",
    "    macaroon = re.search(r'macaroon=\"([^ ]+)\"', challenge).group(1)\n",
    "    invoice = re.search(r'invoice=\"([^ ]+)\"', challenge).group(1)\n",
    "    return macaroon, invoice\n",
    "\n",
    "response = requests.get(\"https://api.fewsats.com/v0/storage/download/b0dfa667-bafe-4648-a371-b94c8a87da65\")\n",
    "# Extract challenge from server response\n",
    "challenge = response.headers.get('WWW-Authenticate')\n",
    "# We extract the macaroon & preimage simply using regex\n",
    "macaroon, invoice = parse_l402_challenge(challenge)\n",
    "macaroon, invoice\n"
   ]
  },
  {
   "cell_type": "markdown",
   "metadata": {},
   "source": [
    "### 5. Paying the Invoice\n",
    "\n",
    "After parsing the challenge, the client uses a mock preimage provider to simulate the payment of the invoice and obtain a preimage. This preimage serves as proof of payment, which is necessary for the client to authenticate subsequent requests to access the protected resource."
   ]
  },
  {
   "cell_type": "code",
   "execution_count": 16,
   "metadata": {},
   "outputs": [
    {
     "data": {
      "text/plain": [
       "'2f84e22556af9919f695d7761f404e98ff98058b7d32074de8c0c83bf63eecd7'"
      ]
     },
     "execution_count": 16,
     "metadata": {},
     "output_type": "execute_result"
    }
   ],
   "source": [
    "# Simulate payment and obtain preimage using a mock preimage provider\n",
    "class MockPreimageProvider():\n",
    "    def get_preimage(self, invoice):\n",
    "        return \"2f84e22556af9919f695d7761f404e98ff98058b7d32074de8c0c83bf63eecd7\"\n",
    "    \n",
    "preimage_provider = MockPreimageProvider()\n",
    "preimage = preimage_provider.get_preimage(invoice)\n",
    "preimage"
   ]
  },
  {
   "cell_type": "markdown",
   "metadata": {},
   "source": [
    "### 6. Sending Authenticated Request with Macaroon and Preimage\n",
    "\n",
    "After obtaining the preimage, the client sends an authenticated request by combining the macaroon and preimage in the request headers."
   ]
  },
  {
   "cell_type": "code",
   "execution_count": 17,
   "metadata": {},
   "outputs": [
    {
     "data": {
      "text/plain": [
       "<Response [402]>"
      ]
     },
     "execution_count": 17,
     "metadata": {},
     "output_type": "execute_result"
    }
   ],
   "source": [
    "import requests\n",
    "\n",
    "# Send authenticated request with macaroon and preimage\n",
    "headers = {\n",
    "    'Authorization': f'L402 {macaroon}:{preimage}'\n",
    "}\n",
    "\n",
    "response = requests.get(url, headers=headers)\n",
    "response"
   ]
  },
  {
   "cell_type": "markdown",
   "metadata": {},
   "source": [
    "The response is still 402 because we made up the `preimage` so the credentials are not valid. But you get the point. Let's now put it all together."
   ]
  },
  {
   "cell_type": "markdown",
   "metadata": {},
   "source": [
    "## Putting it All Together\n",
    "Now let's see the complete L402 flow in action by running the Flask server and creating a client that interacts with it.\n",
    "First, let's start the Flask server:\n",
    "\n",
    "### Flask Server\n",
    "\n",
    "We'll use the `Flask_l402_decorator` to protect our endpoint, which takes an `Authenticator` instance and a pricing function as arguments.\n",
    "\n",
    "The Authenticator requires:\n",
    "\n",
    "* `InvoiceProvider` to create invoices and a\n",
    "* `MacaroonService` to store and retrieve macaroon root keys to validate them\n"
   ]
  },
  {
   "cell_type": "code",
   "execution_count": 18,
   "metadata": {},
   "outputs": [
    {
     "name": "stdout",
     "output_type": "stream",
     "text": [
      "Note: you may need to restart the kernel to use updated packages.\n"
     ]
    }
   ],
   "source": [
    "# Let's install the L402 library that we'll use for both client & server\n",
    "# Google colab has an issue with blinker so we uninstall it first.\n",
    "# See more: https://github.com/googlecolab/colabtools/issues/3976\n",
    "\n",
    "# If running in Colab RUN the following command.\n",
    "# apt-get -qq remove python3-blinker\n",
    "\n",
    "# If you have issues outside of Colab, run the following command.\n",
    "# See more: https://github.com/embedchain/embedchain/issues/506\n",
    "# %pip install --ignore-installed -Uqq l402\n",
    "\n",
    "%pip install -Uqq l402"
   ]
  },
  {
   "cell_type": "code",
   "execution_count": 19,
   "metadata": {},
   "outputs": [],
   "source": [
    "\n",
    "from flask import Flask, jsonify\n",
    "from l402.server import Authenticator, Flask_l402_decorator\n",
    "from l402.server.macaroons import MacaroonService\n",
    "\n",
    "# We defined again the mocks here because previous examples were not async\n",
    "# and Flask requires async functions to work with them\n",
    "class MockInvoiceProvider():\n",
    "    async def create_invoice(self, amount, currency, description):\n",
    "        mock_invoice = \"lnbcrt1u1p3d23dkpp58r92m0s0vyfdnd3caxhzgvu006dajv9r8pcspknhvezw26t9e8qsdq5g9kxy7fqd9h8vmmfvdjscqzpgxqyz5vqsp59efe44rg6cjl3xwh9glgx4ztcgwtg5l8uhry2v9v7s0zn2wpaz2s9qyyssq2z799an4pt4wtfy8yrk5ee0qqj7w5a74prz5tm8rulwez08ttlaz9xx7eqw7fe94y7t0600d03k55fyguyj24nd9tjmx6sf7dsxkk4gpkyenl8\"\n",
    "        mock_payment_hash = \"38caadbe0f6112d9b638e9ae24338f7e9bd930a3387100da776644e56965c9c1\"\n",
    "        return mock_invoice, mock_payment_hash\n",
    "\n",
    "class MockMacaroonService(MacaroonService):\n",
    "    def __init__(self):\n",
    "        self._store = {}\n",
    "\n",
    "    async def insert_root_key(self, token_id, root_key, macaroon):\n",
    "        self._store[token_id] = (root_key, macaroon)\n",
    "\n",
    "    async def get_root_key(self, token_id):\n",
    "        return self._store[token_id][0] if token_id in self._store else None\n",
    "\n",
    "\n",
    "authenticator = Authenticator(\n",
    "    location=\"https://api.fewsats.com\", # <- this will be added to the created macaroons\n",
    "    invoice_provider=MockInvoiceProvider(),\n",
    "    macaroon_service=MockMacaroonService()\n",
    ")\n",
    "\n",
    "def pricing_func(request):\n",
    "    return 1, \"USD\", \"L402 protected endpoint\"\n",
    "\n",
    "app = Flask(__name__)\n",
    "\n",
    "@app.route('/protected')\n",
    "@Flask_l402_decorator(authenticator, pricing_func)\n",
    "def protected_endpoint():\n",
    "    return jsonify({\"message\": \"Access granted to protected endpoint\"})\n"
   ]
  },
  {
   "cell_type": "markdown",
   "metadata": {},
   "source": [
    "### Client\n",
    "\n",
    "The L402 package provides an `httpx` drop-in replacement. You only need to configure it with a `preimage_provider` and a `credentials_service`. All you existing codebase using `httpx` will work out of the box.\n",
    "\n",
    "The `credentials_service`  acts as a store for the preimages obtained after a payment. It is not an essential part of the L402 protocol but without it, we would need to pay again for each request."
   ]
  },
  {
   "cell_type": "code",
   "execution_count": 20,
   "metadata": {},
   "outputs": [],
   "source": [
    "from l402.client import httpx\n",
    "\n",
    "# We store the credentials in a simple dict\n",
    "class MockCredentialsService:\n",
    "    def __init__(self):\n",
    "        self._credentials = {}\n",
    "    async def store(self, credentials):\n",
    "        self._credentials[credentials.location] = credentials\n",
    "\n",
    "    async def get(self, location):\n",
    "        return self._credentials.get(location, None)\n",
    "\n",
    "# We will return a hardcoded preimage for the input invoice\n",
    "class MockPreimageProvider():\n",
    "    async def get_preimage(self, invoice):\n",
    "        # Preimage for \"lnbcrt1u1p3d23dkpp58r92m0s0vyfdnd3caxhzgvu006dajv9r8pcspknhvezw26t9e8qsdq5g9kxy7fqd9h8vmmfvdjscqzpgxqyz5vqsp59efe44rg6cjl3xwh9glgx4ztcgwtg5l8uhry2v9v7s0zn2wpaz2s9qyyssq2z799an4pt4wtfy8yrk5ee0qqj7w5a74prz5tm8rulwez08ttlaz9xx7eqw7fe94y7t0600d03k55fyguyj24nd9tjmx6sf7dsxkk4gpkyenl8\"\n",
    "        return \"2f84e22556af9919f695d7761f404e98ff98058b7d32074de8c0c83bf63eecd7\"\n",
    "\n",
    "httpx.configure(\n",
    "    preimage_provider=MockPreimageProvider(),\n",
    "    credentials_service=MockCredentialsService()\n",
    ")"
   ]
  },
  {
   "cell_type": "code",
   "execution_count": 21,
   "metadata": {},
   "outputs": [
    {
     "name": "stdout",
     "output_type": "stream",
     "text": [
      " * Serving Flask app '__main__'\n",
      " * Debug mode: off\n"
     ]
    },
    {
     "name": "stderr",
     "output_type": "stream",
     "text": [
      "\u001b[31m\u001b[1mWARNING: This is a development server. Do not use it in a production deployment. Use a production WSGI server instead.\u001b[0m\n",
      " * Running on http://127.0.0.1:5000\n",
      "\u001b[33mPress CTRL+C to quit\u001b[0m\n"
     ]
    }
   ],
   "source": [
    "# Server: Run Flask in a thread\n",
    "import threading\n",
    "from time import sleep\n",
    "threading.Thread(target=app.run).start()\n",
    "\n",
    "sleep(2) # wait for the server to start"
   ]
  },
  {
   "cell_type": "code",
   "execution_count": 22,
   "metadata": {},
   "outputs": [
    {
     "name": "stderr",
     "output_type": "stream",
     "text": [
      "127.0.0.1 - - [11/Jun/2024 12:40:32] \"\u001b[31m\u001b[1mGET /protected HTTP/1.1\u001b[0m\" 402 -\n",
      "127.0.0.1 - - [11/Jun/2024 12:40:32] \"\u001b[31m\u001b[1mGET /protected HTTP/1.1\u001b[0m\" 402 -\n",
      "127.0.0.1 - - [11/Jun/2024 12:40:32] \"GET /protected HTTP/1.1\" 200 -\n"
     ]
    },
    {
     "name": "stdout",
     "output_type": "stream",
     "text": [
      "<Response [402 PAYMENT REQUIRED]>\n",
      "L402 macaroon=\"AgEXaHR0cHM6Ly9hcGkuZmV3c2F0cy5jb20CQgAAOMqtvg9hEtm2OOmuJDOPfpvZMKM4cQDad2ZE5WllycFb74udcOZziMdzDlgyNZKfZH7RS_V1Ubk3pA2h6OduqwAABiDWpNz2YGqBt60g1vDAYGpzPfM3QoxCsoZEg2Y7sMe9aQ\", invoice=\"lnbcrt1u1p3d23dkpp58r92m0s0vyfdnd3caxhzgvu006dajv9r8pcspknhvezw26t9e8qsdq5g9kxy7fqd9h8vmmfvdjscqzpgxqyz5vqsp59efe44rg6cjl3xwh9glgx4ztcgwtg5l8uhry2v9v7s0zn2wpaz2s9qyyssq2z799an4pt4wtfy8yrk5ee0qqj7w5a74prz5tm8rulwez08ttlaz9xx7eqw7fe94y7t0600d03k55fyguyj24nd9tjmx6sf7dsxkk4gpkyenl8\"\n",
      "Payment Required\n"
     ]
    }
   ],
   "source": [
    "\n",
    "# Client: Send a request to the server\n",
    "import httpx as base_httpx\n",
    "async with base_httpx.AsyncClient() as client:\n",
    "    response = await client.get(\"http://127.0.0.1:5000/protected\")\n",
    "    print(response)\n",
    "    print(response.headers.get('WWW-Authenticate'))\n",
    "    print(response.text)"
   ]
  },
  {
   "cell_type": "code",
   "execution_count": 23,
   "metadata": {},
   "outputs": [
    {
     "name": "stdout",
     "output_type": "stream",
     "text": [
      "{\"message\":\"Access granted to protected endpoint\"}\n",
      "\n"
     ]
    }
   ],
   "source": [
    "async with httpx.AsyncClient() as client:\n",
    "    response = await client.get(\"http://127.0.0.1:5000/protected\")\n",
    "    print(response.text)"
   ]
  }
 ],
 "metadata": {
  "kernelspec": {
   "display_name": "venv",
   "language": "python",
   "name": "python3"
  },
  "language_info": {
   "codemirror_mode": {
    "name": "ipython",
    "version": 3
   },
   "file_extension": ".py",
   "mimetype": "text/x-python",
   "name": "python",
   "nbconvert_exporter": "python",
   "pygments_lexer": "ipython3",
   "version": "3.12.3"
  }
 },
 "nbformat": 4,
 "nbformat_minor": 2
}
